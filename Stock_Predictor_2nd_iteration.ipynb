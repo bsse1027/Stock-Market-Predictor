{
  "cells": [
    {
      "cell_type": "markdown",
      "metadata": {
        "id": "view-in-github",
        "colab_type": "text"
      },
      "source": [
        "<a href=\"https://colab.research.google.com/github/bsse1027/Stock-Market-Predictor/blob/main/Stock_Predictor_2nd_iteration.ipynb\" target=\"_parent\"><img src=\"https://colab.research.google.com/assets/colab-badge.svg\" alt=\"Open In Colab\"/></a>"
      ]
    },
    {
      "cell_type": "code",
      "execution_count": 215,
      "metadata": {
        "id": "k407IgOfuvhY"
      },
      "outputs": [],
      "source": [
        "import pandas as pd \n",
        "import matplotlib.pyplot as plt\n",
        "import numpy as np\n",
        "from sklearn.model_selection import KFold\n",
        "from sklearn.linear_model import LinearRegression\n",
        "from sklearn.metrics import mean_squared_error\n"
      ]
    },
    {
      "cell_type": "code",
      "execution_count": 216,
      "metadata": {
        "id": "_XBo9LxAuvhb",
        "colab": {
          "base_uri": "https://localhost:8080/"
        },
        "outputId": "445d8173-eeb8-439e-e21a-fc0df7deec16"
      },
      "outputs": [
        {
          "output_type": "stream",
          "name": "stdout",
          "text": [
            "(624, 12)\n"
          ]
        },
        {
          "output_type": "execute_result",
          "data": {
            "text/plain": [
              "(622, 12)"
            ]
          },
          "metadata": {},
          "execution_count": 216
        }
      ],
      "source": [
        "df =  pd.read_csv('new_BDPLANT.csv')\n",
        "print(df.shape)\n",
        "df = df.loc[df[\"date\"]!='date']\n",
        "df.shape"
      ]
    },
    {
      "cell_type": "code",
      "execution_count": 217,
      "metadata": {
        "id": "1Fya62aGuvhd",
        "colab": {
          "base_uri": "https://localhost:8080/"
        },
        "outputId": "45933a05-d4f0-48de-db94-2b1291d7ed56"
      },
      "outputs": [
        {
          "output_type": "execute_result",
          "data": {
            "text/plain": [
              "Unnamed: 0                  object\n",
              "date                        object\n",
              "trading_code                object\n",
              "last_traded_price           object\n",
              "high                        object\n",
              "low                         object\n",
              "opening_price               object\n",
              "closing_price               object\n",
              "yesterdays_closing_price    object\n",
              "trade                       object\n",
              "value_mn                    object\n",
              "volume                      object\n",
              "dtype: object"
            ]
          },
          "metadata": {},
          "execution_count": 217
        }
      ],
      "source": [
        "df.dtypes"
      ]
    },
    {
      "cell_type": "code",
      "execution_count": 218,
      "metadata": {
        "id": "pe4jOGpjuvhe"
      },
      "outputs": [],
      "source": [
        "#df.date = pd.to_datetime(df.date,infer_datetime_format=True)"
      ]
    },
    {
      "cell_type": "code",
      "execution_count": 219,
      "metadata": {
        "id": "bVJ4KBNKuvhf",
        "colab": {
          "base_uri": "https://localhost:8080/",
          "height": 505
        },
        "outputId": "74963cde-2797-4f0c-8713-22b80396f172"
      },
      "outputs": [
        {
          "output_type": "execute_result",
          "data": {
            "text/plain": [
              "    Unnamed: 0        date trading_code last_traded_price high  low  \\\n",
              "0        10111  2008-12-30      BDPLANT               0.0  0.0  0.0   \n",
              "1        10112  2008-12-28      BDPLANT               0.0  0.0  0.0   \n",
              "2        10113  2008-12-24      BDPLANT               0.0  0.0  0.0   \n",
              "3        10114  2008-12-23      BDPLANT               0.0  0.0  0.0   \n",
              "4        10115  2008-12-22      BDPLANT               0.0  0.0  0.0   \n",
              "..         ...         ...          ...               ...  ...  ...   \n",
              "619      11856  2010-01-07      BDPLANT               0.0  0.0  0.0   \n",
              "620      11857  2010-01-06      BDPLANT               0.0  0.0  0.0   \n",
              "621      11858  2010-01-05      BDPLANT               0.0  0.0  0.0   \n",
              "622      11859  2010-01-04      BDPLANT               0.0  0.0  0.0   \n",
              "623      11860  2010-01-03      BDPLANT               0.0  0.0  0.0   \n",
              "\n",
              "    opening_price closing_price yesterdays_closing_price trade value_mn volume  \n",
              "0          1850.0        1850.0                   1850.0     0      0.0      0  \n",
              "1          1850.0        1850.0                   1850.0     0      0.0      0  \n",
              "2          1850.0        1850.0                   1850.0     0      0.0      0  \n",
              "3          1850.0        1850.0                   1850.0     0      0.0      0  \n",
              "4          1850.0        1850.0                   1850.0     0      0.0      0  \n",
              "..            ...           ...                      ...   ...      ...    ...  \n",
              "619        2112.0        2112.0                   2112.0   0.0      0.0    0.0  \n",
              "620        2112.0        2112.0                   2112.0   0.0      0.0    0.0  \n",
              "621        2112.0        2112.0                   2112.0   0.0      0.0    0.0  \n",
              "622        2112.0        2112.0                   2112.0   0.0      0.0    0.0  \n",
              "623        2112.0        2112.0                   2112.0   0.0      0.0    0.0  \n",
              "\n",
              "[622 rows x 12 columns]"
            ],
            "text/html": [
              "\n",
              "  <div id=\"df-429601af-6215-490d-8bb0-c523a28b56f1\">\n",
              "    <div class=\"colab-df-container\">\n",
              "      <div>\n",
              "<style scoped>\n",
              "    .dataframe tbody tr th:only-of-type {\n",
              "        vertical-align: middle;\n",
              "    }\n",
              "\n",
              "    .dataframe tbody tr th {\n",
              "        vertical-align: top;\n",
              "    }\n",
              "\n",
              "    .dataframe thead th {\n",
              "        text-align: right;\n",
              "    }\n",
              "</style>\n",
              "<table border=\"1\" class=\"dataframe\">\n",
              "  <thead>\n",
              "    <tr style=\"text-align: right;\">\n",
              "      <th></th>\n",
              "      <th>Unnamed: 0</th>\n",
              "      <th>date</th>\n",
              "      <th>trading_code</th>\n",
              "      <th>last_traded_price</th>\n",
              "      <th>high</th>\n",
              "      <th>low</th>\n",
              "      <th>opening_price</th>\n",
              "      <th>closing_price</th>\n",
              "      <th>yesterdays_closing_price</th>\n",
              "      <th>trade</th>\n",
              "      <th>value_mn</th>\n",
              "      <th>volume</th>\n",
              "    </tr>\n",
              "  </thead>\n",
              "  <tbody>\n",
              "    <tr>\n",
              "      <th>0</th>\n",
              "      <td>10111</td>\n",
              "      <td>2008-12-30</td>\n",
              "      <td>BDPLANT</td>\n",
              "      <td>0.0</td>\n",
              "      <td>0.0</td>\n",
              "      <td>0.0</td>\n",
              "      <td>1850.0</td>\n",
              "      <td>1850.0</td>\n",
              "      <td>1850.0</td>\n",
              "      <td>0</td>\n",
              "      <td>0.0</td>\n",
              "      <td>0</td>\n",
              "    </tr>\n",
              "    <tr>\n",
              "      <th>1</th>\n",
              "      <td>10112</td>\n",
              "      <td>2008-12-28</td>\n",
              "      <td>BDPLANT</td>\n",
              "      <td>0.0</td>\n",
              "      <td>0.0</td>\n",
              "      <td>0.0</td>\n",
              "      <td>1850.0</td>\n",
              "      <td>1850.0</td>\n",
              "      <td>1850.0</td>\n",
              "      <td>0</td>\n",
              "      <td>0.0</td>\n",
              "      <td>0</td>\n",
              "    </tr>\n",
              "    <tr>\n",
              "      <th>2</th>\n",
              "      <td>10113</td>\n",
              "      <td>2008-12-24</td>\n",
              "      <td>BDPLANT</td>\n",
              "      <td>0.0</td>\n",
              "      <td>0.0</td>\n",
              "      <td>0.0</td>\n",
              "      <td>1850.0</td>\n",
              "      <td>1850.0</td>\n",
              "      <td>1850.0</td>\n",
              "      <td>0</td>\n",
              "      <td>0.0</td>\n",
              "      <td>0</td>\n",
              "    </tr>\n",
              "    <tr>\n",
              "      <th>3</th>\n",
              "      <td>10114</td>\n",
              "      <td>2008-12-23</td>\n",
              "      <td>BDPLANT</td>\n",
              "      <td>0.0</td>\n",
              "      <td>0.0</td>\n",
              "      <td>0.0</td>\n",
              "      <td>1850.0</td>\n",
              "      <td>1850.0</td>\n",
              "      <td>1850.0</td>\n",
              "      <td>0</td>\n",
              "      <td>0.0</td>\n",
              "      <td>0</td>\n",
              "    </tr>\n",
              "    <tr>\n",
              "      <th>4</th>\n",
              "      <td>10115</td>\n",
              "      <td>2008-12-22</td>\n",
              "      <td>BDPLANT</td>\n",
              "      <td>0.0</td>\n",
              "      <td>0.0</td>\n",
              "      <td>0.0</td>\n",
              "      <td>1850.0</td>\n",
              "      <td>1850.0</td>\n",
              "      <td>1850.0</td>\n",
              "      <td>0</td>\n",
              "      <td>0.0</td>\n",
              "      <td>0</td>\n",
              "    </tr>\n",
              "    <tr>\n",
              "      <th>...</th>\n",
              "      <td>...</td>\n",
              "      <td>...</td>\n",
              "      <td>...</td>\n",
              "      <td>...</td>\n",
              "      <td>...</td>\n",
              "      <td>...</td>\n",
              "      <td>...</td>\n",
              "      <td>...</td>\n",
              "      <td>...</td>\n",
              "      <td>...</td>\n",
              "      <td>...</td>\n",
              "      <td>...</td>\n",
              "    </tr>\n",
              "    <tr>\n",
              "      <th>619</th>\n",
              "      <td>11856</td>\n",
              "      <td>2010-01-07</td>\n",
              "      <td>BDPLANT</td>\n",
              "      <td>0.0</td>\n",
              "      <td>0.0</td>\n",
              "      <td>0.0</td>\n",
              "      <td>2112.0</td>\n",
              "      <td>2112.0</td>\n",
              "      <td>2112.0</td>\n",
              "      <td>0.0</td>\n",
              "      <td>0.0</td>\n",
              "      <td>0.0</td>\n",
              "    </tr>\n",
              "    <tr>\n",
              "      <th>620</th>\n",
              "      <td>11857</td>\n",
              "      <td>2010-01-06</td>\n",
              "      <td>BDPLANT</td>\n",
              "      <td>0.0</td>\n",
              "      <td>0.0</td>\n",
              "      <td>0.0</td>\n",
              "      <td>2112.0</td>\n",
              "      <td>2112.0</td>\n",
              "      <td>2112.0</td>\n",
              "      <td>0.0</td>\n",
              "      <td>0.0</td>\n",
              "      <td>0.0</td>\n",
              "    </tr>\n",
              "    <tr>\n",
              "      <th>621</th>\n",
              "      <td>11858</td>\n",
              "      <td>2010-01-05</td>\n",
              "      <td>BDPLANT</td>\n",
              "      <td>0.0</td>\n",
              "      <td>0.0</td>\n",
              "      <td>0.0</td>\n",
              "      <td>2112.0</td>\n",
              "      <td>2112.0</td>\n",
              "      <td>2112.0</td>\n",
              "      <td>0.0</td>\n",
              "      <td>0.0</td>\n",
              "      <td>0.0</td>\n",
              "    </tr>\n",
              "    <tr>\n",
              "      <th>622</th>\n",
              "      <td>11859</td>\n",
              "      <td>2010-01-04</td>\n",
              "      <td>BDPLANT</td>\n",
              "      <td>0.0</td>\n",
              "      <td>0.0</td>\n",
              "      <td>0.0</td>\n",
              "      <td>2112.0</td>\n",
              "      <td>2112.0</td>\n",
              "      <td>2112.0</td>\n",
              "      <td>0.0</td>\n",
              "      <td>0.0</td>\n",
              "      <td>0.0</td>\n",
              "    </tr>\n",
              "    <tr>\n",
              "      <th>623</th>\n",
              "      <td>11860</td>\n",
              "      <td>2010-01-03</td>\n",
              "      <td>BDPLANT</td>\n",
              "      <td>0.0</td>\n",
              "      <td>0.0</td>\n",
              "      <td>0.0</td>\n",
              "      <td>2112.0</td>\n",
              "      <td>2112.0</td>\n",
              "      <td>2112.0</td>\n",
              "      <td>0.0</td>\n",
              "      <td>0.0</td>\n",
              "      <td>0.0</td>\n",
              "    </tr>\n",
              "  </tbody>\n",
              "</table>\n",
              "<p>622 rows × 12 columns</p>\n",
              "</div>\n",
              "      <button class=\"colab-df-convert\" onclick=\"convertToInteractive('df-429601af-6215-490d-8bb0-c523a28b56f1')\"\n",
              "              title=\"Convert this dataframe to an interactive table.\"\n",
              "              style=\"display:none;\">\n",
              "        \n",
              "  <svg xmlns=\"http://www.w3.org/2000/svg\" height=\"24px\"viewBox=\"0 0 24 24\"\n",
              "       width=\"24px\">\n",
              "    <path d=\"M0 0h24v24H0V0z\" fill=\"none\"/>\n",
              "    <path d=\"M18.56 5.44l.94 2.06.94-2.06 2.06-.94-2.06-.94-.94-2.06-.94 2.06-2.06.94zm-11 1L8.5 8.5l.94-2.06 2.06-.94-2.06-.94L8.5 2.5l-.94 2.06-2.06.94zm10 10l.94 2.06.94-2.06 2.06-.94-2.06-.94-.94-2.06-.94 2.06-2.06.94z\"/><path d=\"M17.41 7.96l-1.37-1.37c-.4-.4-.92-.59-1.43-.59-.52 0-1.04.2-1.43.59L10.3 9.45l-7.72 7.72c-.78.78-.78 2.05 0 2.83L4 21.41c.39.39.9.59 1.41.59.51 0 1.02-.2 1.41-.59l7.78-7.78 2.81-2.81c.8-.78.8-2.07 0-2.86zM5.41 20L4 18.59l7.72-7.72 1.47 1.35L5.41 20z\"/>\n",
              "  </svg>\n",
              "      </button>\n",
              "      \n",
              "  <style>\n",
              "    .colab-df-container {\n",
              "      display:flex;\n",
              "      flex-wrap:wrap;\n",
              "      gap: 12px;\n",
              "    }\n",
              "\n",
              "    .colab-df-convert {\n",
              "      background-color: #E8F0FE;\n",
              "      border: none;\n",
              "      border-radius: 50%;\n",
              "      cursor: pointer;\n",
              "      display: none;\n",
              "      fill: #1967D2;\n",
              "      height: 32px;\n",
              "      padding: 0 0 0 0;\n",
              "      width: 32px;\n",
              "    }\n",
              "\n",
              "    .colab-df-convert:hover {\n",
              "      background-color: #E2EBFA;\n",
              "      box-shadow: 0px 1px 2px rgba(60, 64, 67, 0.3), 0px 1px 3px 1px rgba(60, 64, 67, 0.15);\n",
              "      fill: #174EA6;\n",
              "    }\n",
              "\n",
              "    [theme=dark] .colab-df-convert {\n",
              "      background-color: #3B4455;\n",
              "      fill: #D2E3FC;\n",
              "    }\n",
              "\n",
              "    [theme=dark] .colab-df-convert:hover {\n",
              "      background-color: #434B5C;\n",
              "      box-shadow: 0px 1px 3px 1px rgba(0, 0, 0, 0.15);\n",
              "      filter: drop-shadow(0px 1px 2px rgba(0, 0, 0, 0.3));\n",
              "      fill: #FFFFFF;\n",
              "    }\n",
              "  </style>\n",
              "\n",
              "      <script>\n",
              "        const buttonEl =\n",
              "          document.querySelector('#df-429601af-6215-490d-8bb0-c523a28b56f1 button.colab-df-convert');\n",
              "        buttonEl.style.display =\n",
              "          google.colab.kernel.accessAllowed ? 'block' : 'none';\n",
              "\n",
              "        async function convertToInteractive(key) {\n",
              "          const element = document.querySelector('#df-429601af-6215-490d-8bb0-c523a28b56f1');\n",
              "          const dataTable =\n",
              "            await google.colab.kernel.invokeFunction('convertToInteractive',\n",
              "                                                     [key], {});\n",
              "          if (!dataTable) return;\n",
              "\n",
              "          const docLinkHtml = 'Like what you see? Visit the ' +\n",
              "            '<a target=\"_blank\" href=https://colab.research.google.com/notebooks/data_table.ipynb>data table notebook</a>'\n",
              "            + ' to learn more about interactive tables.';\n",
              "          element.innerHTML = '';\n",
              "          dataTable['output_type'] = 'display_data';\n",
              "          await google.colab.output.renderOutput(dataTable, element);\n",
              "          const docLink = document.createElement('div');\n",
              "          docLink.innerHTML = docLinkHtml;\n",
              "          element.appendChild(docLink);\n",
              "        }\n",
              "      </script>\n",
              "    </div>\n",
              "  </div>\n",
              "  "
            ]
          },
          "metadata": {},
          "execution_count": 219
        }
      ],
      "source": [
        "df"
      ]
    },
    {
      "cell_type": "code",
      "execution_count": 220,
      "metadata": {
        "id": "jRIItG5Ouvhg",
        "colab": {
          "base_uri": "https://localhost:8080/"
        },
        "outputId": "153bcc1e-4c6a-4082-a066-4e8b5b7b62dd"
      },
      "outputs": [
        {
          "output_type": "execute_result",
          "data": {
            "text/plain": [
              "last_traded_price           object\n",
              "high                        object\n",
              "low                         object\n",
              "opening_price               object\n",
              "closing_price               object\n",
              "yesterdays_closing_price    object\n",
              "trade                       object\n",
              "value_mn                    object\n",
              "volume                      object\n",
              "dtype: object"
            ]
          },
          "metadata": {},
          "execution_count": 220
        }
      ],
      "source": [
        "df = df.drop(['trading_code','Unnamed: 0','date'],axis=1)\n",
        "df.dtypes"
      ]
    },
    {
      "cell_type": "code",
      "execution_count": 221,
      "metadata": {
        "id": "kqoSlFLKuvhg",
        "colab": {
          "base_uri": "https://localhost:8080/"
        },
        "outputId": "f8fe8cf7-c2cf-4aac-b2e3-23fbb20dd02a"
      },
      "outputs": [
        {
          "output_type": "execute_result",
          "data": {
            "text/plain": [
              "last_traded_price           float64\n",
              "high                        float64\n",
              "low                         float64\n",
              "opening_price               float64\n",
              "closing_price               float64\n",
              "yesterdays_closing_price    float64\n",
              "trade                       float64\n",
              "value_mn                    float64\n",
              "volume                      float64\n",
              "dtype: object"
            ]
          },
          "metadata": {},
          "execution_count": 221
        }
      ],
      "source": [
        "df.dtypes\n",
        "df.apply(pd.to_numeric).dtypes\n",
        "#df.to_csv('/Modified_Deshbandhu.csv', encoding='utf-8', index=False)"
      ]
    },
    {
      "cell_type": "code",
      "execution_count": 222,
      "metadata": {
        "id": "n_VrjTvbuvhh",
        "colab": {
          "base_uri": "https://localhost:8080/"
        },
        "outputId": "8ecf771c-ba56-4e41-d65f-4c734dc154ae"
      },
      "outputs": [
        {
          "output_type": "stream",
          "name": "stdout",
          "text": [
            "Average RMSE Value:  34.94390048105185\n"
          ]
        }
      ],
      "source": [
        "from sklearn import metrics\n",
        "final_prediction=[]\n",
        "actual_value=[]\n",
        "root_mse=0\n",
        "df1 = df.copy()\n",
        "X = df.drop(['last_traded_price','closing_price'],axis=1)\n",
        "y = df.closing_price\n",
        "kf = KFold(n_splits=5)\n",
        "for Fold,(id_tr,id_te) in enumerate(kf.split(X,y)):\n",
        "    X_train = X.iloc[id_tr]\n",
        "    X_test = X.iloc[id_te]\n",
        "    y_train = y.iloc[id_tr]\n",
        "    y_test = y.iloc[id_te]\n",
        "    LR = LinearRegression()\n",
        "    LR.fit(X_train,y_train)\n",
        "    y_pred = LR.predict(X_test)\n",
        "    final_prediction.append(y_pred)\n",
        "    actual_value.append(np.array(y_test))\n",
        "    root_mse+= np.sqrt(metrics.mean_squared_error(y_test,y_pred))\n",
        "    #mse_value.append(root_mse)\n",
        "    #for itr in range(len(y_test)):\n",
        "    #print(f\"Actual: {y_test[itr]}, Predicted: {y_pred[itr]} \\n\")\n",
        "print(\"Average RMSE Value: \", root_mse/5)\n",
        "    "
      ]
    },
    {
      "cell_type": "code",
      "source": [
        "result =[]\n",
        "for i in range(len(final_prediction)):\n",
        "  for f in range(len(final_prediction[i])):\n",
        "    if float(actual_value[i][f])<=0.0:\n",
        "      continue\n",
        "    result1=(abs(final_prediction[i][f] - float(actual_value[i][f]))/float(actual_value[i][f]))*100\n",
        "    result.append(100 - result1)\n",
        "print(\"The Average Prediction Accuracy is: \",np.mean(result))"
      ],
      "metadata": {
        "colab": {
          "base_uri": "https://localhost:8080/"
        },
        "id": "nAx0NDiE3ASl",
        "outputId": "827e3b26-d1b0-4f3e-8cbf-7fe04b19e21d"
      },
      "execution_count": 223,
      "outputs": [
        {
          "output_type": "stream",
          "name": "stdout",
          "text": [
            "The Average Prediction Accuracy is:  99.69741461496822\n"
          ]
        }
      ]
    },
    {
      "cell_type": "code",
      "execution_count": 224,
      "metadata": {
        "id": "DYKgwIb7uvhi",
        "colab": {
          "base_uri": "https://localhost:8080/",
          "height": 282
        },
        "outputId": "78fa0cff-a695-4019-a1ab-cedfaf084c16"
      },
      "outputs": [
        {
          "output_type": "stream",
          "name": "stderr",
          "text": [
            "WARNING:matplotlib.legend:No handles with labels found to put in legend.\n"
          ]
        },
        {
          "output_type": "display_data",
          "data": {
            "text/plain": [
              "<Figure size 432x288 with 1 Axes>"
            ],
            "image/png": "[encoded data removed]"
          },
          "metadata": {
            "needs_background": "light"
          }
        }
      ],
      "source": [
        "#hist1=pd.DataFrame(y_pred).hist()\n",
        "#hist2=pd.DataFrame(y_test).hist()\n",
        "plt.hist(final_prediction[1],alpha=0.5)\n",
        "plt.hist(actual_value[1],alpha=0.5)\n",
        "plt.legend()\n",
        "plt.show()"
      ]
    },
    {
      "cell_type": "code",
      "source": [
        ""
      ],
      "metadata": {
        "id": "x0Skr4rQqprA"
      },
      "execution_count": 224,
      "outputs": []
    }
  ],
  "metadata": {
    "kernelspec": {
      "display_name": "Python 3.8.8 ('base')",
      "language": "python",
      "name": "python3"
    },
    "language_info": {
      "codemirror_mode": {
        "name": "ipython",
        "version": 3
      },
      "file_extension": ".py",
      "mimetype": "text/x-python",
      "name": "python",
      "nbconvert_exporter": "python",
      "pygments_lexer": "ipython3",
      "version": "3.8.8"
    },
    "orig_nbformat": 4,
    "vscode": {
      "interpreter": {
        "hash": "864debbaa1d3644c095affaccd3ebb8a096583b986235ad27b9ff9cc1eab272d"
      }
    },
    "colab": {
      "name": "Stock Predictor_2nd iteration.ipynb",
      "provenance": [],
      "include_colab_link": true
    }
  },
  "nbformat": 4,
  "nbformat_minor": 0
}